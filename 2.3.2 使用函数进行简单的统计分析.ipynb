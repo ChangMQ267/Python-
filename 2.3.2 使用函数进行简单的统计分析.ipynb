{
 "cells": [
  {
   "cell_type": "markdown",
   "metadata": {},
   "source": [
    "<h1>2.3.2 使用函数进行简单的统计分析</h1>"
   ]
  },
  {
   "cell_type": "markdown",
   "metadata": {},
   "source": [
    "1. 排序"
   ]
  },
  {
   "cell_type": "code",
   "execution_count": 1,
   "metadata": {},
   "outputs": [],
   "source": [
    "import numpy as np"
   ]
  },
  {
   "cell_type": "code",
   "execution_count": 3,
   "metadata": {},
   "outputs": [
    {
     "name": "stdout",
     "output_type": "stream",
     "text": [
      "[5 1 2 6 1 4 2 3 8 1]\n"
     ]
    }
   ],
   "source": [
    "# 使用sort函数进行排序\n",
    "np.random.seed(43) # 设置随机种子\n",
    "arr = np.random.randint(1,10,size = 10) # 生成随机数据\n",
    "print(arr)"
   ]
  },
  {
   "cell_type": "code",
   "execution_count": 4,
   "metadata": {},
   "outputs": [
    {
     "name": "stdout",
     "output_type": "stream",
     "text": [
      "[1 1 1 2 2 3 4 5 6 8]\n"
     ]
    }
   ],
   "source": [
    "arr.sort() # 直接排序\n",
    "print(arr)"
   ]
  },
  {
   "cell_type": "code",
   "execution_count": 19,
   "metadata": {},
   "outputs": [
    {
     "name": "stdout",
     "output_type": "stream",
     "text": [
      "[[7 6 6]\n",
      " [6 9 8]\n",
      " [4 7 4]]\n"
     ]
    }
   ],
   "source": [
    "arr = np.random.randint(1,10,size =(3,3)) # 生成3*3的数组\n",
    "print(arr)"
   ]
  },
  {
   "cell_type": "code",
   "execution_count": 20,
   "metadata": {
    "scrolled": true
   },
   "outputs": [
    {
     "name": "stdout",
     "output_type": "stream",
     "text": [
      "[[4 6 4]\n",
      " [6 7 6]\n",
      " [7 9 8]]\n",
      "[[4 4 6]\n",
      " [6 6 7]\n",
      " [7 8 9]]\n"
     ]
    }
   ],
   "source": [
    "arr.sort(axis = 0) # axis = 0  纵轴排序\n",
    "print(arr)\n",
    "arr.sort(axis = 1) # axis = 1 横轴排序\n",
    "print(arr)"
   ]
  },
  {
   "cell_type": "code",
   "execution_count": null,
   "metadata": {},
   "outputs": [],
   "source": []
  }
 ],
 "metadata": {
  "kernelspec": {
   "display_name": "Python 3",
   "language": "python",
   "name": "python3"
  },
  "language_info": {
   "codemirror_mode": {
    "name": "ipython",
    "version": 3
   },
   "file_extension": ".py",
   "mimetype": "text/x-python",
   "name": "python",
   "nbconvert_exporter": "python",
   "pygments_lexer": "ipython3",
   "version": "3.7.7"
  }
 },
 "nbformat": 4,
 "nbformat_minor": 4
}
